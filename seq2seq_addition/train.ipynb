{
 "cells": [
  {
   "cell_type": "code",
   "execution_count": 5,
   "metadata": {},
   "outputs": [
    {
     "name": "stderr",
     "output_type": "stream",
     "text": [
      "WARNING:absl:GlobalAsyncCheckpointManager is not imported correctly. Checkpointing of GlobalDeviceArrays will not be available.To use the feature, install tensorstore.\n"
     ]
    }
   ],
   "source": [
    "import functools\n",
    "from typing import Any, Dict, Tuple\n",
    "from clu import metric_writers\n",
    "from flax import linen as nn\n",
    "from flax.training import train_state, checkpoints\n",
    "import jax\n",
    "import jax.numpy as jnp\n",
    "import optax\n",
    "import numpy as np\n",
    "\n",
    "import models\n",
    "from input_pipeline import CharacterTable as CTable\n",
    "from input_pipeline import get_sequence_lengths\n",
    "from input_pipeline import mask_sequences"
   ]
  },
  {
   "cell_type": "code",
   "execution_count": 2,
   "metadata": {},
   "outputs": [],
   "source": [
    "Array = Any\n",
    "PRNGKey = Any\n",
    "\n",
    "flags = {\n",
    "    \"workdir\": \".\",\n",
    "    \"learning_rate\": 0.003,\n",
    "    \"batch_size\": 128,\n",
    "    \"hidden_size\": 512,\n",
    "    \"num_training_steps\": 2000,\n",
    "    \"decode_frequency\": 200,\n",
    "    \"max_len_query_digit\": 3,\n",
    "}\n"
   ]
  },
  {
   "cell_type": "code",
   "execution_count": 3,
   "metadata": {},
   "outputs": [],
   "source": [
    "def get_model(ctable: CTable, *, teacher_force: bool = False) -> models.Seq2seq:\n",
    "    return models.Seq2seq(\n",
    "        teacher_force=teacher_force,\n",
    "        hidden_size=flags[\"hidden_size\"],\n",
    "        eos_id=ctable.eos_id,\n",
    "        vocab_size=ctable.vocab_size,\n",
    "    )\n"
   ]
  },
  {
   "cell_type": "code",
   "execution_count": 4,
   "metadata": {},
   "outputs": [],
   "source": [
    "def get_initial_params(\n",
    "    model: models.Seq2seq, rng: PRNGKey, ctable: CTable\n",
    ") -> Dict[str, Any]:\n",
    "    rng1, rng2 = jax.random.split(rng)\n",
    "    variables = model.init(\n",
    "        {\"params\": rng1, \"lstm\": rng2},\n",
    "        jnp.ones(ctable.encoder_input_shape, jnp.float32),\n",
    "        jnp.ones(ctable.decoder_input_shape, jnp.float32),\n",
    "    )\n",
    "    return variables[\"params\"]\n"
   ]
  },
  {
   "cell_type": "code",
   "execution_count": 5,
   "metadata": {},
   "outputs": [],
   "source": [
    "def get_train_state(rng: PRNGKey, ctable: CTable) -> train_state.TrainState:\n",
    "    model = get_model(ctable)\n",
    "    params = get_initial_params(model, rng, ctable)\n",
    "    tx = optax.adam(flags[\"learning_rate\"])\n",
    "    state = train_state.TrainState.create(apply_fn=model.apply, params=params, tx=tx)\n",
    "    return state\n"
   ]
  },
  {
   "cell_type": "code",
   "execution_count": 6,
   "metadata": {},
   "outputs": [],
   "source": [
    "def cross_entropy_loss(logits: Array, labels: Array, lengths: Array) -> float:\n",
    "    xe = jnp.sum(nn.log_softmax(logits) * labels, axis=-1)\n",
    "    masked_xe = jnp.mean(mask_sequences(xe, lengths))\n",
    "    return -masked_xe"
   ]
  },
  {
   "cell_type": "code",
   "execution_count": 7,
   "metadata": {},
   "outputs": [],
   "source": [
    "def compute_metrics(logits: Array, labels: Array, eos_id: int) -> Dict[str, float]:\n",
    "    lengths = get_sequence_lengths(labels, eos_id)\n",
    "    loss = cross_entropy_loss(logits, labels, lengths)\n",
    "    token_accuracy = jnp.argmax(logits, -1) == jnp.argmax(labels, -1)\n",
    "    sequence_accuracy = (\n",
    "        jnp.sum(mask_sequences(token_accuracy, lengths), axis=-1) == lengths\n",
    "    )\n",
    "    accuracy = jnp.mean(sequence_accuracy)\n",
    "    metrics = {\"loss\": loss, \"accuracy\": accuracy}\n",
    "\n",
    "    return metrics\n"
   ]
  },
  {
   "cell_type": "code",
   "execution_count": 8,
   "metadata": {},
   "outputs": [],
   "source": [
    "@jax.jit\n",
    "def train_step(\n",
    "    state: train_state.TrainState, batch: Array, lstm_rng: PRNGKey, eos_id: int\n",
    ") -> Tuple[train_state.TrainState, Dict[str, float]]:\n",
    "    labels = batch[\"answer\"][:, 1:]\n",
    "    lstm_key = jax.random.fold_in(lstm_rng, state.step)\n",
    "\n",
    "    def loss_fn(params):\n",
    "        logits, _ = state.apply_fn(\n",
    "            {\"params\": params}, batch[\"query\"], batch[\"answer\"], rngs={\"lstm\": lstm_key}\n",
    "        )\n",
    "        loss = cross_entropy_loss(logits, labels, get_sequence_lengths(labels, eos_id))\n",
    "        return loss, logits\n",
    "    \n",
    "    grad_fn = jax.value_and_grad(loss_fn, has_aux=True)\n",
    "    (_, logits), grads = grad_fn(state.params)\n",
    "    state = state.apply_gradients(grads=grads)\n",
    "    metrics = compute_metrics(logits, labels, eos_id)\n",
    "\n",
    "    return state, metrics\n"
   ]
  },
  {
   "cell_type": "code",
   "execution_count": 9,
   "metadata": {},
   "outputs": [],
   "source": [
    "def log_decode(question: str, inferred: str, golden: str) -> None:\n",
    "    suffix = (\n",
    "        \"(CORRECT)\" if inferred == golden else (f\"(INCORRECT) \" f\"correct={golden}\")\n",
    "    )\n",
    "    print(f\"DECODE: {question} = {inferred} {suffix}\")\n"
   ]
  },
  {
   "cell_type": "code",
   "execution_count": 10,
   "metadata": {},
   "outputs": [],
   "source": [
    "@functools.partial(jax.jit, static_argnums=3)\n",
    "def decode(\n",
    "    params: Dict[str, Any], inputs: Array, decode_rng: PRNGKey, ctable: CTable\n",
    ") -> Array:\n",
    "    init_decoder_input = ctable.one_hot(ctable.encode(\"=\")[0:1])\n",
    "    init_decoder_inputs = jnp.tile(\n",
    "        init_decoder_input, (inputs.shape[0], ctable.max_output_len, 1)\n",
    "    )\n",
    "    model = get_model(ctable, teacher_force=False)\n",
    "    _, predictions = model.apply(\n",
    "        {\"params\": params}, inputs, init_decoder_inputs, rngs={\"lstm\": decode_rng}\n",
    "    )\n",
    "    return predictions\n"
   ]
  },
  {
   "cell_type": "code",
   "execution_count": 11,
   "metadata": {},
   "outputs": [],
   "source": [
    "def decode_batch(state: train_state.TrainState, batch: Dict[str, Array], decode_rng: PRNGKey, ctable: CTable) -> None: \n",
    "    inputs, outputs = batch['query'], batch['answer'][:, 1:]\n",
    "    decode_rng = jax.random.fold_in(decode_rng, state.step)\n",
    "    inferred = decode(state.params, inputs, decode_rng, ctable)\n",
    "    questions = ctable.decode_onehot(inputs)\n",
    "    infers = ctable.decode_onehot(inferred)\n",
    "    goldens = ctable.decode_onehot(outputs)\n",
    "\n",
    "    for question, inferred, golden in zip(questions, infers, goldens):\n",
    "        log_decode(question, inferred, golden)"
   ]
  },
  {
   "cell_type": "code",
   "execution_count": 12,
   "metadata": {},
   "outputs": [],
   "source": [
    "def train_and_evaluate(workdir: str) -> train_state.TrainState:\n",
    "    ctable = CTable(\"0123456789+= \", flags[\"max_len_query_digit\"])\n",
    "    rng = jax.random.PRNGKey(0)\n",
    "    state = get_train_state(rng, ctable)\n",
    "\n",
    "    writer = metric_writers.create_default_writer(workdir)\n",
    "    for step in range(flags[\"num_training_steps\"]):\n",
    "        rng, n_rng = jax.random.split(rng)\n",
    "        batch = ctable.get_batch(flags[\"batch_size\"], n_rng)\n",
    "        state, metrics = train_step(state, batch, rng, ctable.eos_id)\n",
    "        if step and step % flags[\"decode_frequency\"] == 0:\n",
    "            writer.write_scalars(step, metrics)\n",
    "            rng, n_rng = jax.random.split(rng)\n",
    "            batch = ctable.get_batch(5, n_rng)\n",
    "            decode_batch(state, batch, n_rng, ctable)\n",
    "\n",
    "    return state\n"
   ]
  },
  {
   "cell_type": "code",
   "execution_count": 13,
   "metadata": {},
   "outputs": [
    {
     "name": "stdout",
     "output_type": "stream",
     "text": [
      "DECODE: 11+812 = 834 (INCORRECT) correct=823\n",
      "DECODE: 89+835 = 939 (INCORRECT) correct=924\n",
      "DECODE: 49+804 = 835 (INCORRECT) correct=853\n",
      "DECODE: 54+205 = 236 (INCORRECT) correct=259\n",
      "DECODE: 6+73 = 71 (INCORRECT) correct=79\n",
      "DECODE: 10+210 = 212 (INCORRECT) correct=220\n",
      "DECODE: 54+634 = 681 (INCORRECT) correct=688\n",
      "DECODE: 39+658 = 697 (CORRECT)\n",
      "DECODE: 94+806 = 905 (INCORRECT) correct=900\n",
      "DECODE: 57+862 = 925 (INCORRECT) correct=919\n",
      "DECODE: 27+65 = 91 (INCORRECT) correct=92\n",
      "DECODE: 89+169 = 264 (INCORRECT) correct=258\n",
      "DECODE: 67+93 = 151 (INCORRECT) correct=160\n",
      "DECODE: 73+659 = 735 (INCORRECT) correct=732\n",
      "DECODE: 53+630 = 679 (INCORRECT) correct=683\n",
      "DECODE: 73+442 = 514 (INCORRECT) correct=515\n",
      "DECODE: 25+563 = 581 (INCORRECT) correct=588\n",
      "DECODE: 54+440 = 490 (INCORRECT) correct=494\n",
      "DECODE: 69+852 = 928 (INCORRECT) correct=921\n",
      "DECODE: 68+244 = 312 (CORRECT)\n",
      "DECODE: 24+322 = 345 (INCORRECT) correct=346\n",
      "DECODE: 48+966 = 1013 (INCORRECT) correct=1014\n",
      "DECODE: 61+711 = 773 (INCORRECT) correct=772\n",
      "DECODE: 66+245 = 311 (CORRECT)\n",
      "DECODE: 82+419 = 502 (INCORRECT) correct=501\n",
      "DECODE: 98+562 = 659 (INCORRECT) correct=660\n",
      "DECODE: 66+761 = 827 (CORRECT)\n",
      "DECODE: 39+802 = 841 (CORRECT)\n",
      "DECODE: 16+31 = 47 (CORRECT)\n",
      "DECODE: 81+659 = 740 (CORRECT)\n",
      "DECODE: 67+421 = 488 (CORRECT)\n",
      "DECODE: 74+190 = 264 (CORRECT)\n",
      "DECODE: 51+270 = 321 (CORRECT)\n",
      "DECODE: 86+804 = 890 (CORRECT)\n",
      "DECODE: 43+655 = 698 (CORRECT)\n",
      "DECODE: 68+925 = 993 (CORRECT)\n",
      "DECODE: 50+482 = 532 (CORRECT)\n",
      "DECODE: 19+471 = 490 (CORRECT)\n",
      "DECODE: 84+220 = 304 (CORRECT)\n",
      "DECODE: 97+331 = 428 (CORRECT)\n",
      "DECODE: 50+443 = 493 (CORRECT)\n",
      "DECODE: 29+98 = 127 (CORRECT)\n",
      "DECODE: 8+85 = 93 (CORRECT)\n",
      "DECODE: 19+447 = 466 (CORRECT)\n",
      "DECODE: 14+327 = 341 (CORRECT)\n"
     ]
    }
   ],
   "source": [
    "state = train_and_evaluate('./logs')"
   ]
  },
  {
   "cell_type": "code",
   "execution_count": 16,
   "metadata": {},
   "outputs": [
    {
     "data": {
      "text/plain": [
       "'ckpts/checkpoint_0'"
      ]
     },
     "execution_count": 16,
     "metadata": {},
     "output_type": "execute_result"
    }
   ],
   "source": [
    "CKPT_DIR = 'ckpts'\n",
    "checkpoints.save_checkpoint(ckpt_dir=CKPT_DIR, target=state, step=0)"
   ]
  },
  {
   "cell_type": "code",
   "execution_count": 3,
   "metadata": {},
   "outputs": [],
   "source": [
    "from input_pipeline import AdditionTaskCT\n",
    "import jax"
   ]
  },
  {
   "cell_type": "code",
   "execution_count": 2,
   "metadata": {},
   "outputs": [],
   "source": [
    "ctable = AdditionTaskCT(\"0123456789+= \", 3)"
   ]
  },
  {
   "cell_type": "code",
   "execution_count": 7,
   "metadata": {},
   "outputs": [
    {
     "data": {
      "text/plain": [
       "15"
      ]
     },
     "execution_count": 7,
     "metadata": {},
     "output_type": "execute_result"
    }
   ],
   "source": [
    "ctable.vocab_size"
   ]
  },
  {
   "cell_type": "code",
   "execution_count": 3,
   "metadata": {},
   "outputs": [
    {
     "data": {
      "text/plain": [
       "'abcdefghijklmnopqrstuvwxyz'"
      ]
     },
     "execution_count": 3,
     "metadata": {},
     "output_type": "execute_result"
    }
   ],
   "source": [
    "import string\n",
    "string.ascii_lowercase"
   ]
  },
  {
   "cell_type": "code",
   "execution_count": 6,
   "metadata": {},
   "outputs": [
    {
     "data": {
      "text/plain": [
       "array([['o', 'z', 't']], dtype='<U1')"
      ]
     },
     "execution_count": 6,
     "metadata": {},
     "output_type": "execute_result"
    }
   ],
   "source": [
    "rnd = jax.random.PRNGKey(0)\n",
    "np.array([ch for ch in string.ascii_lowercase])[jax.random.randint(rnd, shape=(1, 3), minval=0, maxval=len(string.ascii_lowercase))]"
   ]
  },
  {
   "cell_type": "code",
   "execution_count": 14,
   "metadata": {},
   "outputs": [
    {
     "ename": "TypeError",
     "evalue": "string indices must be integers",
     "output_type": "error",
     "traceback": [
      "\u001b[0;31m---------------------------------------------------------------------------\u001b[0m",
      "\u001b[0;31mTypeError\u001b[0m                                 Traceback (most recent call last)",
      "\u001b[1;32m/Users/slvt/Documents/papers/seq2seq_addition/train.ipynb Cell 20\u001b[0m in \u001b[0;36m<cell line: 1>\u001b[0;34m()\u001b[0m\n\u001b[0;32m----> <a href='vscode-notebook-cell:/Users/slvt/Documents/papers/seq2seq_addition/train.ipynb#X30sZmlsZQ%3D%3D?line=0'>1</a>\u001b[0m string\u001b[39m.\u001b[39;49mascii_lowercase[[\u001b[39m0\u001b[39;49m, \u001b[39m1\u001b[39;49m]]\n",
      "\u001b[0;31mTypeError\u001b[0m: string indices must be integers"
     ]
    }
   ],
   "source": [
    "string.ascii_lowercase"
   ]
  },
  {
   "cell_type": "code",
   "execution_count": 10,
   "metadata": {},
   "outputs": [],
   "source": [
    "a = np.array([ch for ch in string.ascii_lowercase])[jax.random.randint(\n",
    "                    rnd,\n",
    "                    shape=(1, 3),\n",
    "                    minval=0,\n",
    "                    maxval=10,\n",
    "                )]\n",
    "b = np.array([ch for ch in string.ascii_lowercase])[[9, 0, 15]]"
   ]
  },
  {
   "cell_type": "code",
   "execution_count": 11,
   "metadata": {},
   "outputs": [
    {
     "data": {
      "text/plain": [
       "numpy.ndarray"
      ]
     },
     "execution_count": 11,
     "metadata": {},
     "output_type": "execute_result"
    }
   ],
   "source": [
    "type(a)"
   ]
  },
  {
   "cell_type": "code",
   "execution_count": 13,
   "metadata": {},
   "outputs": [
    {
     "data": {
      "text/plain": [
       "array(['i', 'b', 'h'], dtype='<U1')"
      ]
     },
     "execution_count": 13,
     "metadata": {},
     "output_type": "execute_result"
    }
   ],
   "source": [
    "a[0]"
   ]
  },
  {
   "cell_type": "code",
   "execution_count": 15,
   "metadata": {},
   "outputs": [
    {
     "data": {
      "text/plain": [
       "'ibh'"
      ]
     },
     "execution_count": 15,
     "metadata": {},
     "output_type": "execute_result"
    }
   ],
   "source": [
    "''.join(a[0])"
   ]
  },
  {
   "cell_type": "code",
   "execution_count": 1,
   "metadata": {},
   "outputs": [
    {
     "ename": "ValueError",
     "evalue": "Sequence is too long (5 > 4): '=ucq'",
     "output_type": "error",
     "traceback": [
      "\u001b[0;31m---------------------------------------------------------------------------\u001b[0m",
      "\u001b[0;31mValueError\u001b[0m                                Traceback (most recent call last)",
      "\u001b[1;32m/Users/slvt/Documents/papers/seq2seq_addition/train.ipynb Cell 25\u001b[0m in \u001b[0;36m<cell line: 6>\u001b[0;34m()\u001b[0m\n\u001b[1;32m      <a href='vscode-notebook-cell:/Users/slvt/Documents/papers/seq2seq_addition/train.ipynb#X32sZmlsZQ%3D%3D?line=3'>4</a>\u001b[0m task \u001b[39m=\u001b[39m WordReverseTaskCT(\u001b[39m3\u001b[39m)\n\u001b[1;32m      <a href='vscode-notebook-cell:/Users/slvt/Documents/papers/seq2seq_addition/train.ipynb#X32sZmlsZQ%3D%3D?line=4'>5</a>\u001b[0m rnd \u001b[39m=\u001b[39m jax\u001b[39m.\u001b[39mrandom\u001b[39m.\u001b[39mPRNGKey(\u001b[39m0\u001b[39m)\n\u001b[0;32m----> <a href='vscode-notebook-cell:/Users/slvt/Documents/papers/seq2seq_addition/train.ipynb#X32sZmlsZQ%3D%3D?line=5'>6</a>\u001b[0m g \u001b[39m=\u001b[39m task\u001b[39m.\u001b[39;49mget_batch(batch_size\u001b[39m=\u001b[39;49m\u001b[39m1\u001b[39;49m, rnd_key\u001b[39m=\u001b[39;49mrnd)\n\u001b[1;32m      <a href='vscode-notebook-cell:/Users/slvt/Documents/papers/seq2seq_addition/train.ipynb#X32sZmlsZQ%3D%3D?line=7'>8</a>\u001b[0m \u001b[39mfor\u001b[39;00m i \u001b[39min\u001b[39;00m g:\n\u001b[1;32m      <a href='vscode-notebook-cell:/Users/slvt/Documents/papers/seq2seq_addition/train.ipynb#X32sZmlsZQ%3D%3D?line=8'>9</a>\u001b[0m     \u001b[39mprint\u001b[39m(i)\n",
      "File \u001b[0;32m~/Documents/papers/seq2seq_addition/input_pipeline.py:118\u001b[0m, in \u001b[0;36mCharacterTable.get_batch\u001b[0;34m(self, batch_size, rnd_key)\u001b[0m\n\u001b[1;32m    111\u001b[0m \u001b[39mdef\u001b[39;00m \u001b[39mget_batch\u001b[39m(\n\u001b[1;32m    112\u001b[0m     \u001b[39mself\u001b[39m, batch_size: \u001b[39mint\u001b[39m, rnd_key: jax\u001b[39m.\u001b[39mrandom\u001b[39m.\u001b[39mPRNGKey\n\u001b[1;32m    113\u001b[0m ) \u001b[39m-\u001b[39m\u001b[39m>\u001b[39m Dict[\u001b[39mstr\u001b[39m, np\u001b[39m.\u001b[39mndarray]:\n\u001b[1;32m    114\u001b[0m     inputs, outputs \u001b[39m=\u001b[39m \u001b[39mzip\u001b[39m(\u001b[39m*\u001b[39m\u001b[39mself\u001b[39m\u001b[39m.\u001b[39mgenerate_examples(batch_size, rnd_key))\n\u001b[1;32m    116\u001b[0m     \u001b[39mreturn\u001b[39;00m {\n\u001b[1;32m    117\u001b[0m         \u001b[39m\"\u001b[39m\u001b[39mquery\u001b[39m\u001b[39m\"\u001b[39m: \u001b[39mself\u001b[39m\u001b[39m.\u001b[39mencode_onehot(inputs),\n\u001b[0;32m--> 118\u001b[0m         \u001b[39m\"\u001b[39m\u001b[39manswer\u001b[39m\u001b[39m\"\u001b[39m: \u001b[39mself\u001b[39;49m\u001b[39m.\u001b[39;49mencode_onehot(outputs),\n\u001b[1;32m    119\u001b[0m     }\n",
      "File \u001b[0;32m~/Documents/papers/seq2seq_addition/input_pipeline.py:81\u001b[0m, in \u001b[0;36mCharacterTable.encode_onehot\u001b[0;34m(self, batch_inputs, max_len)\u001b[0m\n\u001b[1;32m     78\u001b[0m     tokens \u001b[39m=\u001b[39m np\u001b[39m.\u001b[39mpad(tokens, [(\u001b[39m0\u001b[39m, max_len \u001b[39m-\u001b[39m \u001b[39mlen\u001b[39m(tokens))], mode\u001b[39m=\u001b[39m\u001b[39m\"\u001b[39m\u001b[39mconstant\u001b[39m\u001b[39m\"\u001b[39m)\n\u001b[1;32m     79\u001b[0m     \u001b[39mreturn\u001b[39;00m \u001b[39mself\u001b[39m\u001b[39m.\u001b[39mone_hot(tokens)\n\u001b[0;32m---> 81\u001b[0m \u001b[39mreturn\u001b[39;00m np\u001b[39m.\u001b[39marray([encode_str(s) \u001b[39mfor\u001b[39;00m s \u001b[39min\u001b[39;00m batch_inputs])\n",
      "File \u001b[0;32m~/Documents/papers/seq2seq_addition/input_pipeline.py:81\u001b[0m, in \u001b[0;36m<listcomp>\u001b[0;34m(.0)\u001b[0m\n\u001b[1;32m     78\u001b[0m     tokens \u001b[39m=\u001b[39m np\u001b[39m.\u001b[39mpad(tokens, [(\u001b[39m0\u001b[39m, max_len \u001b[39m-\u001b[39m \u001b[39mlen\u001b[39m(tokens))], mode\u001b[39m=\u001b[39m\u001b[39m\"\u001b[39m\u001b[39mconstant\u001b[39m\u001b[39m\"\u001b[39m)\n\u001b[1;32m     79\u001b[0m     \u001b[39mreturn\u001b[39;00m \u001b[39mself\u001b[39m\u001b[39m.\u001b[39mone_hot(tokens)\n\u001b[0;32m---> 81\u001b[0m \u001b[39mreturn\u001b[39;00m np\u001b[39m.\u001b[39marray([encode_str(s) \u001b[39mfor\u001b[39;00m s \u001b[39min\u001b[39;00m batch_inputs])\n",
      "File \u001b[0;32m~/Documents/papers/seq2seq_addition/input_pipeline.py:75\u001b[0m, in \u001b[0;36mCharacterTable.encode_onehot.<locals>.encode_str\u001b[0;34m(s)\u001b[0m\n\u001b[1;32m     73\u001b[0m unpadded_len \u001b[39m=\u001b[39m \u001b[39mlen\u001b[39m(tokens)\n\u001b[1;32m     74\u001b[0m \u001b[39mif\u001b[39;00m unpadded_len \u001b[39m>\u001b[39m max_len:\n\u001b[0;32m---> 75\u001b[0m     \u001b[39mraise\u001b[39;00m \u001b[39mValueError\u001b[39;00m(\n\u001b[1;32m     76\u001b[0m         \u001b[39mf\u001b[39m\u001b[39m\"\u001b[39m\u001b[39mSequence is too long (\u001b[39m\u001b[39m{\u001b[39;00munpadded_len\u001b[39m}\u001b[39;00m\u001b[39m > \u001b[39m\u001b[39m{\u001b[39;00mmax_len\u001b[39m}\u001b[39;00m\u001b[39m): \u001b[39m\u001b[39m'\u001b[39m\u001b[39m{\u001b[39;00ms\u001b[39m}\u001b[39;00m\u001b[39m'\u001b[39m\u001b[39m\"\u001b[39m\n\u001b[1;32m     77\u001b[0m     )\n\u001b[1;32m     78\u001b[0m tokens \u001b[39m=\u001b[39m np\u001b[39m.\u001b[39mpad(tokens, [(\u001b[39m0\u001b[39m, max_len \u001b[39m-\u001b[39m \u001b[39mlen\u001b[39m(tokens))], mode\u001b[39m=\u001b[39m\u001b[39m\"\u001b[39m\u001b[39mconstant\u001b[39m\u001b[39m\"\u001b[39m)\n\u001b[1;32m     79\u001b[0m \u001b[39mreturn\u001b[39;00m \u001b[39mself\u001b[39m\u001b[39m.\u001b[39mone_hot(tokens)\n",
      "\u001b[0;31mValueError\u001b[0m: Sequence is too long (5 > 4): '=ucq'"
     ]
    }
   ],
   "source": [
    "from input_pipeline import WordReverseTaskCT\n",
    "import jax\n",
    "\n",
    "task = WordReverseTaskCT(3)\n",
    "rnd = jax.random.PRNGKey(0)\n",
    "g = task.get_batch(batch_size=1, rnd_key=rnd)\n",
    "\n",
    "for i in g:\n",
    "    print(i)"
   ]
  },
  {
   "cell_type": "code",
   "execution_count": 7,
   "metadata": {},
   "outputs": [
    {
     "name": "stdout",
     "output_type": "stream",
     "text": [
      "['q' 'c' 'u']\n",
      "['z' 'u' 'g']\n",
      "['t' 'f' 's']\n",
      "['s' 'q' 'v']\n",
      "['u' 'e' 'd']\n",
      "['k' 'x' 'z']\n",
      "['j' 'p' 'r']\n",
      "['w' 't' 's']\n",
      "['i' 't' 'f']\n",
      "['c' 'u' 'q']\n",
      "['j' 'n' 'g']\n",
      "['e' 'a' 'w']\n",
      "['z' 's' 'b']\n",
      "['n' 'm' 'r']\n",
      "['f' 'v' 'z']\n",
      "['g' 'w' 'r']\n",
      "['i' 'g' 'a']\n",
      "['v' 'j' 's']\n",
      "['y' 'n' 'z']\n",
      "['z' 't' 'x']\n"
     ]
    },
    {
     "ename": "KeyError",
     "evalue": "'['",
     "output_type": "error",
     "traceback": [
      "\u001b[0;31m---------------------------------------------------------------------------\u001b[0m",
      "\u001b[0;31mKeyError\u001b[0m                                  Traceback (most recent call last)",
      "\u001b[1;32m/Users/slvt/Documents/papers/seq2seq_addition/train.ipynb Cell 27\u001b[0m in \u001b[0;36m<cell line: 2>\u001b[0;34m()\u001b[0m\n\u001b[1;32m      <a href='vscode-notebook-cell:/Users/slvt/Documents/papers/seq2seq_addition/train.ipynb#X34sZmlsZQ%3D%3D?line=0'>1</a>\u001b[0m rnd \u001b[39m=\u001b[39m jax\u001b[39m.\u001b[39mrandom\u001b[39m.\u001b[39mPRNGKey(\u001b[39m0\u001b[39m)\n\u001b[0;32m----> <a href='vscode-notebook-cell:/Users/slvt/Documents/papers/seq2seq_addition/train.ipynb#X34sZmlsZQ%3D%3D?line=1'>2</a>\u001b[0m task\u001b[39m.\u001b[39;49mget_batch(\u001b[39m10\u001b[39;49m, rnd)\n",
      "File \u001b[0;32m~/Documents/papers/seq2seq_addition/input_pipeline.py:117\u001b[0m, in \u001b[0;36mCharacterTable.get_batch\u001b[0;34m(self, batch_size, rnd_key)\u001b[0m\n\u001b[1;32m    111\u001b[0m \u001b[39mdef\u001b[39;00m \u001b[39mget_batch\u001b[39m(\n\u001b[1;32m    112\u001b[0m     \u001b[39mself\u001b[39m, batch_size: \u001b[39mint\u001b[39m, rnd_key: jax\u001b[39m.\u001b[39mrandom\u001b[39m.\u001b[39mPRNGKey\n\u001b[1;32m    113\u001b[0m ) \u001b[39m-\u001b[39m\u001b[39m>\u001b[39m Dict[\u001b[39mstr\u001b[39m, np\u001b[39m.\u001b[39mndarray]:\n\u001b[1;32m    114\u001b[0m     inputs, outputs \u001b[39m=\u001b[39m \u001b[39mzip\u001b[39m(\u001b[39m*\u001b[39m\u001b[39mself\u001b[39m\u001b[39m.\u001b[39mgenerate_examples(batch_size, rnd_key))\n\u001b[1;32m    116\u001b[0m     \u001b[39mreturn\u001b[39;00m {\n\u001b[0;32m--> 117\u001b[0m         \u001b[39m\"\u001b[39m\u001b[39mquery\u001b[39m\u001b[39m\"\u001b[39m: \u001b[39mself\u001b[39;49m\u001b[39m.\u001b[39;49mencode_onehot(inputs),\n\u001b[1;32m    118\u001b[0m         \u001b[39m\"\u001b[39m\u001b[39manswer\u001b[39m\u001b[39m\"\u001b[39m: \u001b[39mself\u001b[39m\u001b[39m.\u001b[39mencode_onehot(outputs),\n\u001b[1;32m    119\u001b[0m     }\n",
      "File \u001b[0;32m~/Documents/papers/seq2seq_addition/input_pipeline.py:81\u001b[0m, in \u001b[0;36mCharacterTable.encode_onehot\u001b[0;34m(self, batch_inputs, max_len)\u001b[0m\n\u001b[1;32m     78\u001b[0m     tokens \u001b[39m=\u001b[39m np\u001b[39m.\u001b[39mpad(tokens, [(\u001b[39m0\u001b[39m, max_len \u001b[39m-\u001b[39m \u001b[39mlen\u001b[39m(tokens))], mode\u001b[39m=\u001b[39m\u001b[39m\"\u001b[39m\u001b[39mconstant\u001b[39m\u001b[39m\"\u001b[39m)\n\u001b[1;32m     79\u001b[0m     \u001b[39mreturn\u001b[39;00m \u001b[39mself\u001b[39m\u001b[39m.\u001b[39mone_hot(tokens)\n\u001b[0;32m---> 81\u001b[0m \u001b[39mreturn\u001b[39;00m np\u001b[39m.\u001b[39marray([encode_str(s) \u001b[39mfor\u001b[39;00m s \u001b[39min\u001b[39;00m batch_inputs])\n",
      "File \u001b[0;32m~/Documents/papers/seq2seq_addition/input_pipeline.py:81\u001b[0m, in \u001b[0;36m<listcomp>\u001b[0;34m(.0)\u001b[0m\n\u001b[1;32m     78\u001b[0m     tokens \u001b[39m=\u001b[39m np\u001b[39m.\u001b[39mpad(tokens, [(\u001b[39m0\u001b[39m, max_len \u001b[39m-\u001b[39m \u001b[39mlen\u001b[39m(tokens))], mode\u001b[39m=\u001b[39m\u001b[39m\"\u001b[39m\u001b[39mconstant\u001b[39m\u001b[39m\"\u001b[39m)\n\u001b[1;32m     79\u001b[0m     \u001b[39mreturn\u001b[39;00m \u001b[39mself\u001b[39m\u001b[39m.\u001b[39mone_hot(tokens)\n\u001b[0;32m---> 81\u001b[0m \u001b[39mreturn\u001b[39;00m np\u001b[39m.\u001b[39marray([encode_str(s) \u001b[39mfor\u001b[39;00m s \u001b[39min\u001b[39;00m batch_inputs])\n",
      "File \u001b[0;32m~/Documents/papers/seq2seq_addition/input_pipeline.py:72\u001b[0m, in \u001b[0;36mCharacterTable.encode_onehot.<locals>.encode_str\u001b[0;34m(s)\u001b[0m\n\u001b[1;32m     71\u001b[0m \u001b[39mdef\u001b[39;00m \u001b[39mencode_str\u001b[39m(s):\n\u001b[0;32m---> 72\u001b[0m     tokens \u001b[39m=\u001b[39m \u001b[39mself\u001b[39;49m\u001b[39m.\u001b[39;49mencode(s)\n\u001b[1;32m     73\u001b[0m     unpadded_len \u001b[39m=\u001b[39m \u001b[39mlen\u001b[39m(tokens)\n\u001b[1;32m     74\u001b[0m     \u001b[39mif\u001b[39;00m unpadded_len \u001b[39m>\u001b[39m max_len:\n",
      "File \u001b[0;32m~/Documents/papers/seq2seq_addition/input_pipeline.py:49\u001b[0m, in \u001b[0;36mCharacterTable.encode\u001b[0;34m(self, inputs)\u001b[0m\n\u001b[1;32m     48\u001b[0m \u001b[39mdef\u001b[39;00m \u001b[39mencode\u001b[39m(\u001b[39mself\u001b[39m, inputs: \u001b[39mstr\u001b[39m) \u001b[39m-\u001b[39m\u001b[39m>\u001b[39m np\u001b[39m.\u001b[39mndarray:\n\u001b[0;32m---> 49\u001b[0m     \u001b[39mreturn\u001b[39;00m np\u001b[39m.\u001b[39marray([\u001b[39mself\u001b[39m\u001b[39m.\u001b[39m_char_indices[ch] \u001b[39mfor\u001b[39;00m ch \u001b[39min\u001b[39;00m inputs] \u001b[39m+\u001b[39m [\u001b[39mself\u001b[39m\u001b[39m.\u001b[39meos_id])\n",
      "File \u001b[0;32m~/Documents/papers/seq2seq_addition/input_pipeline.py:49\u001b[0m, in \u001b[0;36m<listcomp>\u001b[0;34m(.0)\u001b[0m\n\u001b[1;32m     48\u001b[0m \u001b[39mdef\u001b[39;00m \u001b[39mencode\u001b[39m(\u001b[39mself\u001b[39m, inputs: \u001b[39mstr\u001b[39m) \u001b[39m-\u001b[39m\u001b[39m>\u001b[39m np\u001b[39m.\u001b[39mndarray:\n\u001b[0;32m---> 49\u001b[0m     \u001b[39mreturn\u001b[39;00m np\u001b[39m.\u001b[39marray([\u001b[39mself\u001b[39;49m\u001b[39m.\u001b[39;49m_char_indices[ch] \u001b[39mfor\u001b[39;00m ch \u001b[39min\u001b[39;00m inputs] \u001b[39m+\u001b[39m [\u001b[39mself\u001b[39m\u001b[39m.\u001b[39meos_id])\n",
      "\u001b[0;31mKeyError\u001b[0m: '['"
     ]
    }
   ],
   "source": [
    "task.get_batch(10, rnd)"
   ]
  },
  {
   "cell_type": "code",
   "execution_count": null,
   "metadata": {},
   "outputs": [],
   "source": []
  }
 ],
 "metadata": {
  "kernelspec": {
   "display_name": "Python 3.10.5 ('ds')",
   "language": "python",
   "name": "python3"
  },
  "language_info": {
   "codemirror_mode": {
    "name": "ipython",
    "version": 3
   },
   "file_extension": ".py",
   "mimetype": "text/x-python",
   "name": "python",
   "nbconvert_exporter": "python",
   "pygments_lexer": "ipython3",
   "version": "3.10.5"
  },
  "orig_nbformat": 4,
  "vscode": {
   "interpreter": {
    "hash": "5fa8e7a0e7c7188de72acea4ae1bc222d1770499c4c3d36ce32843ef46b20053"
   }
  }
 },
 "nbformat": 4,
 "nbformat_minor": 2
}
